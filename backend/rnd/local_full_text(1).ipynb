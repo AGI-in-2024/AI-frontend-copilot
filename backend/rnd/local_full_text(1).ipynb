{
 "cells": [
  {
   "cell_type": "code",
   "execution_count": 1,
   "metadata": {},
   "outputs": [],
   "source": [
    "import os\n",
    "from getpass import getpass"
   ]
  },
  {
   "cell_type": "code",
   "execution_count": 2,
   "metadata": {},
   "outputs": [
    {
     "name": "stdin",
     "output_type": "stream",
     "text": [
      "Введите ваш ключ, полученный в боте курса ········\n"
     ]
    }
   ],
   "source": [
    "from utils import ChatOpenAI\n",
    "course_api_key = getpass(prompt=\"Введите ваш ключ, полученный в боте курса\")\n",
    "\n",
    "llm = ChatOpenAI(temperature=0.0, course_api_key=course_api_key)"
   ]
  },
  {
   "cell_type": "code",
   "execution_count": 11,
   "metadata": {},
   "outputs": [],
   "source": [
    "!pip install GitPython langchain-chroma -qq"
   ]
  },
  {
   "cell_type": "code",
   "execution_count": 4,
   "metadata": {},
   "outputs": [],
   "source": [
    "from git import Repo\n",
    "from langchain_community.document_loaders.generic import GenericLoader\n",
    "from langchain_community.document_loaders.parsers import LanguageParser\n",
    "from langchain_text_splitters import Language"
   ]
  },
  {
   "cell_type": "code",
   "execution_count": 284,
   "metadata": {},
   "outputs": [],
   "source": [
    "import os\n",
    "import git\n",
    "import csv\n",
    "\n",
    "# Constants\n",
    "REPO_URL = \"https://github.com/nlmk-group/ds-2.0/\"\n",
    "CLONE_DIR = \"cloned_repo\"\n",
    "COMPONENTS_DIR = os.path.join(CLONE_DIR, \"src\", \"components\")\n",
    "OUTPUT_CSV = \"combined_code.csv\"\n",
    "#TARGET_COMPONENTS = [\"Alert\", \"Input\", \"AttachFiles\"]\n",
    "SPLIT_THRESHOLD = 7500  # Max number of symbols before splitting\n",
    "OVERLAP_SIZE = 4000  # Overlap size for splitting\n",
    "EXCLUDE = False"
   ]
  },
  {
   "cell_type": "code",
   "execution_count": null,
   "metadata": {},
   "outputs": [],
   "source": [
    "# Function to clone the repository\n",
    "def clone_repo():\n",
    "    if not os.path.exists(CLONE_DIR):\n",
    "        git.Repo.clone_from(REPO_URL, CLONE_DIR)\n",
    "        print(f\"Repository cloned to {CLONE_DIR}\")\n",
    "    else:\n",
    "        print(f\"Repository already cloned at {CLONE_DIR}\")\n",
    "\n",
    "clone_repo()"
   ]
  },
  {
   "cell_type": "code",
   "execution_count": 323,
   "metadata": {},
   "outputs": [
    {
     "name": "stdout",
     "output_type": "stream",
     "text": [
      "Combined code for all components written to combined_code.csv, with each component's content in a single row.\n"
     ]
    }
   ],
   "source": [
    "# Function to extract description and code from Stories.tsx\n",
    "def extract_code_and_description(content):\n",
    "    descriptions = []\n",
    "    codes = []\n",
    "\n",
    "    while 'description=' in content and 'code={' in content:\n",
    "        # Extract description\n",
    "        desc_start = content.find('description=\"') + len('description=\"')\n",
    "        desc_end = content.find('\"', desc_start)\n",
    "        description = content[desc_start:desc_end]\n",
    "        descriptions.append(description)\n",
    "        \n",
    "        # Extract code block with balanced braces\n",
    "        code_start = content.find('code={') + len('code={')\n",
    "        brace_count = 1\n",
    "        code_end = code_start\n",
    "\n",
    "        while brace_count > 0 and code_end < len(content):\n",
    "            if content[code_end] == '{':\n",
    "                brace_count += 1\n",
    "            elif content[code_end] == '}':\n",
    "                brace_count -= 1\n",
    "            code_end += 1\n",
    "        \n",
    "        # Extract code content\n",
    "        code_block = content[code_start:code_end - 1].strip()  # Exclude the final '}'\n",
    "        codes.append(code_block)\n",
    "        \n",
    "        # Remove processed part from content\n",
    "        content = content[code_end:]\n",
    "\n",
    "    # Combine description and code, format description as comment\n",
    "    result = []\n",
    "    for desc, code in zip(descriptions, codes):\n",
    "        result.append(f\"// {desc}\\n{code}\")\n",
    "\n",
    "    # Join all extracted parts with a double new line\n",
    "    return \"\\n\\n\".join(result)\n",
    "\n",
    "# Function to check if 'isStable' exists in Stories.tsx and gather formatted code\n",
    "def get_stories_content(stories_path, component_name):\n",
    "    if os.path.isfile(stories_path):\n",
    "        with open(stories_path, \"r\") as stories_file:\n",
    "            content = stories_file.read()\n",
    "            if \"isStable\" in content:\n",
    "                # Extract and format the code and description\n",
    "                formatted_content = extract_code_and_description(content)\n",
    "                if formatted_content:\n",
    "                    # Format as component_name_how_to_use for Stories.tsx\n",
    "                    relative_path = f\"{component_name}_how_to_use\"\n",
    "                    return [f\"{component_name} / {relative_path}\", formatted_content]\n",
    "    return []\n",
    "\n",
    "# Function to fetch the full file content without splitting\n",
    "def get_file_content(file_path, component_name, relative_path):\n",
    "    with open(file_path, \"r\") as file:\n",
    "        content = file.read()\n",
    "        return [f\"{component_name} / {relative_path}\", content]\n",
    "\n",
    "# Recursive function to fetch content from component files\n",
    "def process_folder(folder_path, component_name):\n",
    "    file_rows = []\n",
    "\n",
    "    # Check the _stories folder for Stories.tsx and get its content if 'isStable' is present\n",
    "    stories_path = os.path.join(folder_path, \"_stories\", \"Stories.tsx\")\n",
    "    stories_content = get_stories_content(stories_path, component_name)\n",
    "    \n",
    "    # If no 'isStable' in Stories.tsx, skip this component\n",
    "    if not stories_content:\n",
    "        return []\n",
    "    \n",
    "    # Add content from Stories.tsx\n",
    "    file_rows.append(stories_content)\n",
    "\n",
    "    # Gather content from \"types.ts\", \"enums.ts\", and any \".d.ts\" files\n",
    "    for file_name in [\"types.ts\", \"enums.ts\"]:\n",
    "        file_path = os.path.join(folder_path, file_name)\n",
    "        if os.path.isfile(file_path):\n",
    "            relative_path = os.path.relpath(file_path, folder_path)\n",
    "            file_rows.append(get_file_content(file_path, component_name, relative_path))\n",
    "    \n",
    "    # Look for any .d.ts files\n",
    "    for root, _, files in os.walk(folder_path):\n",
    "        for file_name in files:\n",
    "            if file_name.endswith(\".d.ts\"):\n",
    "                file_path = os.path.join(root, file_name)\n",
    "                relative_path = os.path.relpath(file_path, folder_path)\n",
    "                file_rows.append(get_file_content(file_path, component_name, relative_path))\n",
    "    \n",
    "    return file_rows\n",
    "\n",
    "# Main function to combine code for all components\n",
    "def combine_code_testing():\n",
    "    all_rows = []\n",
    "    \n",
    "    # Process every component in the directory\n",
    "    for folder_name in os.listdir(COMPONENTS_DIR):\n",
    "        folder_path = os.path.join(COMPONENTS_DIR, folder_name)\n",
    "        \n",
    "        if os.path.isdir(folder_path):\n",
    "            file_rows = process_folder(folder_path, folder_name)\n",
    "            all_rows.extend(file_rows)  # Append the rows from each folder\n",
    "    \n",
    "    # Write the content into a CSV file\n",
    "    with open(OUTPUT_CSV, \"w\", newline='', encoding='utf-8') as csv_file:\n",
    "        writer = csv.writer(csv_file)\n",
    "        \n",
    "        # Write the header\n",
    "        writer.writerow([\"File\", \"Content\"])\n",
    "        \n",
    "        # Write all the file rows (Component/relative path and content)\n",
    "        writer.writerows(all_rows)\n",
    "    \n",
    "    print(f\"Combined code for all components written to {OUTPUT_CSV}, with each component's content in a single row.\")\n",
    "\n",
    "# Start processing\n",
    "combine_code_testing()"
   ]
  },
  {
   "cell_type": "code",
   "execution_count": null,
   "metadata": {},
   "outputs": [],
   "source": []
  },
  {
   "cell_type": "code",
   "execution_count": 324,
   "metadata": {},
   "outputs": [],
   "source": [
    "from langchain.document_loaders import CSVLoader, DataFrameLoader\n",
    "loader = CSVLoader(file_path=\"./combined_code.csv\")\n",
    "\n",
    "documents = loader.load()"
   ]
  },
  {
   "cell_type": "code",
   "execution_count": 325,
   "metadata": {},
   "outputs": [
    {
     "name": "stdout",
     "output_type": "stream",
     "text": [
      "[3586, 1117, 553, 866, 1843, 810, 334, 1108, 1272, 340, 194, 3839, 460, 237, 2292, 530, 344, 363, 896, 353, 416, 427, 4540, 268, 1657, 508, 329, 831, 7481, 306, 3980, 531, 561, 701, 170, 1956, 144, 348, 200, 345, 345, 320, 448, 353, 812, 272, 1409, 242, 1947, 145, 806, 1279, 880, 986, 580, 650, 136, 515, 232, 470, 135, 1170, 359, 138, 329, 2390, 1197, 3697, 563, 372, 199, 621, 977, 14115, 918, 301, 1609, 1293, 136, 3252, 308, 876, 606, 526, 5572, 457, 278, 4499, 861, 264, 1087, 732, 1545, 1030, 757, 347, 499, 2093, 1007, 619, 233, 677, 1494, 535, 396, 5713, 371, 1099, 1494]\n"
     ]
    }
   ],
   "source": [
    "print([len(doc.page_content) for doc in documents])"
   ]
  },
  {
   "cell_type": "code",
   "execution_count": 334,
   "metadata": {},
   "outputs": [
    {
     "data": {
      "text/plain": [
       "Document(page_content=\"File: Button / enums.ts\\nContent: /**\\n * @type {enum} EButtonSizes\\n * @type {enum} EButtonVariant\\n * @type {enum} EButtonFill\\n */\\n\\nexport enum EButtonSizes {\\n  m = 'm',\\n  s = 's',\\n  xs = 'xs'\\n}\\n\\nexport enum EButtonNodesPosition {\\n  left = 'left',\\n  right = 'right'\\n}\\n\\nexport enum EButtonVariant {\\n  primary = 'primary',\\n  secondary = 'secondary',\\n  grey = 'grey',\\n  black = 'black',\\n  success = 'success',\\n  warning = 'warning',\\n  error = 'error',\\n  info = 'info'\\n}\\n\\nexport enum EButtonFill {\\n  solid = 'solid',\\n  outline = 'outline',\\n  clear = 'clear'\\n}\", metadata={'source': './combined_code.csv', 'row': 2})"
      ]
     },
     "execution_count": 334,
     "metadata": {},
     "output_type": "execute_result"
    }
   ],
   "source": [
    "documents[2]"
   ]
  },
  {
   "cell_type": "code",
   "execution_count": 183,
   "metadata": {},
   "outputs": [],
   "source": [
    "from utils import OpenAIEmbeddings\n",
    "\n",
    "embeddings_api_model = OpenAIEmbeddings(course_api_key=course_api_key)"
   ]
  },
  {
   "cell_type": "code",
   "execution_count": 327,
   "metadata": {},
   "outputs": [],
   "source": [
    "from langchain.vectorstores import FAISS\n",
    "\n",
    "embeddings = OpenAIEmbeddings(course_api_key=course_api_key)\n",
    "db = FAISS.from_documents(\n",
    "    documents, embeddings)\n",
    "\n",
    "db.save_local(\"faiss_db_test\")"
   ]
  },
  {
   "cell_type": "code",
   "execution_count": 328,
   "metadata": {},
   "outputs": [],
   "source": [
    "retriever = db.as_retriever()"
   ]
  },
  {
   "cell_type": "code",
   "execution_count": 329,
   "metadata": {},
   "outputs": [],
   "source": [
    "code_sample = \"\"\"\n",
    "            ```tsx\n",
    "            // Import necessary components\n",
    "            import React from 'react';\n",
    "            import { ComponentName1, ComponentName2 } from '@nlmk/ds-2.0';\n",
    "            \n",
    "            const Interface = () => {\n",
    "              return (\n",
    "                <div>\n",
    "                </div>\n",
    "              );\n",
    "            };\n",
    "            \n",
    "            // Export the main component\n",
    "            export default Interface;\"\"\""
   ]
  },
  {
   "cell_type": "code",
   "execution_count": 265,
   "metadata": {},
   "outputs": [],
   "source": [
    "#code_sample = \"\"\"\n",
    "#            ```tsx\\n// Import necessary components\\nimport React from 'react';\\nimport { ComponentName1, ComponentName2 } from '@nlmk/ds-2.0';\\nconst Interface = () => {\\nreturn (\\n<div>\\n</div>\\n);\\n};\\n// Export the main component\\nexport default Interface;\"\"\""
   ]
  },
  {
   "cell_type": "code",
   "execution_count": 340,
   "metadata": {},
   "outputs": [],
   "source": [
    "from langchain.schema import StrOutputParser\n",
    "from langchain_core.prompts import ChatPromptTemplate\n",
    "from langchain_core.runnables import RunnablePassthrough, RunnableMap\n",
    "\n",
    "template = \"\"\"\n",
    "Generate typescript react code.\n",
    "Use only nlmk components described below in the following context\n",
    "usage examples have how_to_use postfix in index\n",
    "in every enums.ts file you have values of properties for each component:\n",
    "{context}\n",
    "\n",
    "Question: {question}\n",
    "\n",
    "The final code should follow the following structure:\n",
    "{code_sample}\n",
    "\n",
    "now very important: you can make imports only from nlmk.\n",
    "do not forget to imoprt react\n",
    "\"\"\"\n",
    "prompt = ChatPromptTemplate.from_template(template)\n",
    "\n",
    "\n",
    "def format_docs(docs):\n",
    "    return \"\\n\\n\".join([d.page_content for d in docs])\n",
    "\n",
    "chain = RunnableMap({\n",
    "    \"context\": retriever | format_docs,  # Get context and format it\n",
    "    \"code_sample\": RunnablePassthrough(),  # Pass the code sample through unchanged\n",
    "    \"question\": RunnablePassthrough()  # Pass the question unchanged\n",
    "}) | prompt | llm | StrOutputParser()"
   ]
  },
  {
   "cell_type": "code",
   "execution_count": 356,
   "metadata": {},
   "outputs": [
    {
     "data": {
      "text/plain": [
       "'```tsx\\nimport React from \\'react\\';\\nimport { Card, Box, Tooltip, Input, Button } from \\'@nlmk/ds-2.0\\';\\n\\nconst FrontendCopilotInterface = () => {\\n  return (\\n    <div style={{ display: \\'flex\\', justifyContent: \\'space-between\\', padding: \\'20px\\' }}>\\n      <div style={{ width: \\'30%\\', height: \\'100vh\\', overflowY: \\'scroll\\', backgroundColor: \\'#f0f0f0\\' }}>\\n        <Card>\\n          <Tooltip description=\"Результат генерации\">\\n            <img src=\"generated_result.jpg\" alt=\"Generated Result\" style={{ width: \\'100%\\', height: \\'auto\\' }} />\\n          </Tooltip>\\n        </Card>\\n        <Card>\\n          <Tooltip description=\"Результат генерации\">\\n            <img src=\"generated_result.jpg\" alt=\"Generated Result\" style={{ width: \\'100%\\', height: \\'auto\\' }} />\\n          </Tooltip>\\n        </Card>\\n        <Card>\\n          <Tooltip description=\"Результат генерации\">\\n            <img src=\"generated_result.jpg\" alt=\"Generated Result\" style={{ width: \\'100%\\', height: \\'auto\\' }} />\\n          </Tooltip>\\n        </Card>\\n        <Card>\\n          <Tooltip description=\"Результат генерации\">\\n            <img src=\"generated_result.jpg\" alt=\"Generated Result\" style={{ width: \\'100%\\', height: \\'auto\\' }} />\\n          </Tooltip>\\n        </Card>\\n        <Card>\\n          <Tooltip description=\"Результат генерации\">\\n            <img src=\"generated_result.jpg\" alt=\"Generated Result\" style={{ width: \\'100%\\', height: \\'auto\\' }} />\\n          </Tooltip>\\n        </Card>\\n      </div>\\n      <div style={{ width: \\'60%\\', backgroundColor: \\'#e0e0e0\\', padding: \\'20px\\' }}>\\n        <div style={{ display: \\'flex\\', justifyContent: \\'flex-start\\', marginBottom: \\'20px\\' }}>\\n          <Button>Рендер</Button>\\n          <Button>Код</Button>\\n        </div>\\n        <div>\\n          {/* Rendered Result or Generated Code */}\\n        </div>\\n        <div style={{ marginTop: \\'20px\\' }}>\\n          <Input placeholder=\"Введите запрос\" multiline />\\n          <Button>Отправить</Button>\\n        </div>\\n      </div>\\n    </div>\\n  );\\n};\\n\\nexport default FrontendCopilotInterface;\\n```'"
      ]
     },
     "execution_count": 356,
     "metadata": {},
     "output_type": "execute_result"
    }
   ],
   "source": [
    "ans = chain.invoke('''\n",
    "Мне нужен интерфейс для сервиса FrontendCopilot который является инструментом для автоматической генерации Веб Интерфейсов на type_script, базируясь на запросе пользователя. Интерфейс должен выглядеть следующим образом:\n",
    "  - Слева во всю высоту страницу область, в которой Пользователь может видеть всю историю взаимодействия с системой. В этой области располагаются вертикально друг за другом кликабельные карточки со сжатым изображением результата прошлых генераций. Эту область пользователь может прокручивать, так как в во всю высоту должно помещаться ограниченное количество карточек - например 5.\n",
    "  - По центру интерфейса большая прямоугольная область. В ней располагается окно вывода результата(сгенерированного интерфейса) - оно имеет два состояния: Рендер - отрендеренный результат работы сервиса, и Код - сгенерированный код интерфейса Сервисом показанный в удобном формате. Эти состояния переключаются нажатием на одну из табличек, прикрепленных к верхней левой части главной области.\n",
    "  - Снизу под центральной областью - поле для ввода запроса пользователя. Оно должно вмещать несколько строк текста. Справа от этого поля - Кнопка отправки запроса.\n",
    "  \n",
    "  Пожалуйста сконфигурируй красивый интерфейс, чтобы им было удобно пользоваться: Вводить текстовый запрос - Отправлять Его нажатием кнопки - Иметь возможность удобно переключаться между рендером сгенерированного компонента и его исходным кодом с помощью переключателя - Видеть историю результатов обработки прошлых запросов на карточках в левой части. Все три области не должны быть приклеенными друг к другу и располагаться на небольшом одинаковом расстоянии. Покрась каждую область в приятные но разные цвета пожалуйста\n",
    "''')\n",
    "ans"
   ]
  },
  {
   "cell_type": "code",
   "execution_count": 357,
   "metadata": {},
   "outputs": [
    {
     "name": "stdout",
     "output_type": "stream",
     "text": [
      "TypeScript code written to output_code.tsx\n"
     ]
    }
   ],
   "source": [
    "# Replace the \\n symbols with actual newlines\n",
    "real_ts_code = ans.replace(\"\\\\n\", \"\\n\")\n",
    "\n",
    "# Optionally remove the '```tsx' and '```' markers from the string\n",
    "real_ts_code = real_ts_code.replace(\"```tsx\", \"\").replace(\"```\", \"\").strip()\n",
    "\n",
    "# Save the code to a .tsx file or print it\n",
    "with open(\"output_code.tsx\", \"w\") as file:\n",
    "    file.write(real_ts_code)\n",
    "\n",
    "print(\"TypeScript code written to output_code.tsx\")"
   ]
  }
 ],
 "metadata": {
  "colab": {
   "provenance": []
  },
  "kernelspec": {
   "display_name": "cv",
   "language": "python",
   "name": "python3"
  },
  "language_info": {
   "codemirror_mode": {
    "name": "ipython",
    "version": 3
   },
   "file_extension": ".py",
   "mimetype": "text/x-python",
   "name": "python",
   "nbconvert_exporter": "python",
   "pygments_lexer": "ipython3",
   "version": "3.10.12"
  },
  "widgets": {
   "application/vnd.jupyter.widget-state+json": {
    "0d1fcc714f5e48519365b3a811d597fd": {
     "model_module": "@jupyter-widgets/controls",
     "model_module_version": "1.5.0",
     "model_name": "FloatProgressModel",
     "state": {
      "_dom_classes": [],
      "_model_module": "@jupyter-widgets/controls",
      "_model_module_version": "1.5.0",
      "_model_name": "FloatProgressModel",
      "_view_count": null,
      "_view_module": "@jupyter-widgets/controls",
      "_view_module_version": "1.5.0",
      "_view_name": "ProgressView",
      "bar_style": "success",
      "description": "",
      "description_tooltip": null,
      "layout": "IPY_MODEL_2565fdc275f4447988e847e023dcfc3b",
      "max": 100,
      "min": 0,
      "orientation": "horizontal",
      "style": "IPY_MODEL_bb17b9164b484dfd98e963a30b38da44",
      "value": 100
     }
    },
    "2565fdc275f4447988e847e023dcfc3b": {
     "model_module": "@jupyter-widgets/base",
     "model_module_version": "1.2.0",
     "model_name": "LayoutModel",
     "state": {
      "_model_module": "@jupyter-widgets/base",
      "_model_module_version": "1.2.0",
      "_model_name": "LayoutModel",
      "_view_count": null,
      "_view_module": "@jupyter-widgets/base",
      "_view_module_version": "1.2.0",
      "_view_name": "LayoutView",
      "align_content": null,
      "align_items": null,
      "align_self": null,
      "border": null,
      "bottom": null,
      "display": null,
      "flex": null,
      "flex_flow": null,
      "grid_area": null,
      "grid_auto_columns": null,
      "grid_auto_flow": null,
      "grid_auto_rows": null,
      "grid_column": null,
      "grid_gap": null,
      "grid_row": null,
      "grid_template_areas": null,
      "grid_template_columns": null,
      "grid_template_rows": null,
      "height": null,
      "justify_content": null,
      "justify_items": null,
      "left": null,
      "margin": null,
      "max_height": null,
      "max_width": null,
      "min_height": null,
      "min_width": null,
      "object_fit": null,
      "object_position": null,
      "order": null,
      "overflow": null,
      "overflow_x": null,
      "overflow_y": null,
      "padding": null,
      "right": null,
      "top": null,
      "visibility": null,
      "width": null
     }
    },
    "4024a9e859c64e61a7b9eeed12ed4625": {
     "model_module": "@jupyter-widgets/controls",
     "model_module_version": "1.5.0",
     "model_name": "DescriptionStyleModel",
     "state": {
      "_model_module": "@jupyter-widgets/controls",
      "_model_module_version": "1.5.0",
      "_model_name": "DescriptionStyleModel",
      "_view_count": null,
      "_view_module": "@jupyter-widgets/base",
      "_view_module_version": "1.2.0",
      "_view_name": "StyleView",
      "description_width": ""
     }
    },
    "8fedec19d56c44c39ccd75a3d50606eb": {
     "model_module": "@jupyter-widgets/controls",
     "model_module_version": "1.5.0",
     "model_name": "DescriptionStyleModel",
     "state": {
      "_model_module": "@jupyter-widgets/controls",
      "_model_module_version": "1.5.0",
      "_model_name": "DescriptionStyleModel",
      "_view_count": null,
      "_view_module": "@jupyter-widgets/base",
      "_view_module_version": "1.2.0",
      "_view_name": "StyleView",
      "description_width": ""
     }
    },
    "96bbe46b092d408f8c759721b9177d1f": {
     "model_module": "@jupyter-widgets/base",
     "model_module_version": "1.2.0",
     "model_name": "LayoutModel",
     "state": {
      "_model_module": "@jupyter-widgets/base",
      "_model_module_version": "1.2.0",
      "_model_name": "LayoutModel",
      "_view_count": null,
      "_view_module": "@jupyter-widgets/base",
      "_view_module_version": "1.2.0",
      "_view_name": "LayoutView",
      "align_content": null,
      "align_items": null,
      "align_self": null,
      "border": null,
      "bottom": null,
      "display": null,
      "flex": null,
      "flex_flow": null,
      "grid_area": null,
      "grid_auto_columns": null,
      "grid_auto_flow": null,
      "grid_auto_rows": null,
      "grid_column": null,
      "grid_gap": null,
      "grid_row": null,
      "grid_template_areas": null,
      "grid_template_columns": null,
      "grid_template_rows": null,
      "height": null,
      "justify_content": null,
      "justify_items": null,
      "left": null,
      "margin": null,
      "max_height": null,
      "max_width": null,
      "min_height": null,
      "min_width": null,
      "object_fit": null,
      "object_position": null,
      "order": null,
      "overflow": null,
      "overflow_x": null,
      "overflow_y": null,
      "padding": null,
      "right": null,
      "top": null,
      "visibility": null,
      "width": null
     }
    },
    "9a727d9dc7424e39a42232d1d71b93ca": {
     "model_module": "@jupyter-widgets/controls",
     "model_module_version": "1.5.0",
     "model_name": "HBoxModel",
     "state": {
      "_dom_classes": [],
      "_model_module": "@jupyter-widgets/controls",
      "_model_module_version": "1.5.0",
      "_model_name": "HBoxModel",
      "_view_count": null,
      "_view_module": "@jupyter-widgets/controls",
      "_view_module_version": "1.5.0",
      "_view_name": "HBoxView",
      "box_style": "",
      "children": [
       "IPY_MODEL_ecfa3ad4a3ba48aab15b901df2c00661",
       "IPY_MODEL_0d1fcc714f5e48519365b3a811d597fd",
       "IPY_MODEL_e7de6fc3ceeb4d7da9844d1c982f1681"
      ],
      "layout": "IPY_MODEL_f1c94c1d4e43453aaf90b41a15856b57"
     }
    },
    "accd11cc66ed4356aa2e2077211a328a": {
     "model_module": "@jupyter-widgets/base",
     "model_module_version": "1.2.0",
     "model_name": "LayoutModel",
     "state": {
      "_model_module": "@jupyter-widgets/base",
      "_model_module_version": "1.2.0",
      "_model_name": "LayoutModel",
      "_view_count": null,
      "_view_module": "@jupyter-widgets/base",
      "_view_module_version": "1.2.0",
      "_view_name": "LayoutView",
      "align_content": null,
      "align_items": null,
      "align_self": null,
      "border": null,
      "bottom": null,
      "display": null,
      "flex": null,
      "flex_flow": null,
      "grid_area": null,
      "grid_auto_columns": null,
      "grid_auto_flow": null,
      "grid_auto_rows": null,
      "grid_column": null,
      "grid_gap": null,
      "grid_row": null,
      "grid_template_areas": null,
      "grid_template_columns": null,
      "grid_template_rows": null,
      "height": null,
      "justify_content": null,
      "justify_items": null,
      "left": null,
      "margin": null,
      "max_height": null,
      "max_width": null,
      "min_height": null,
      "min_width": null,
      "object_fit": null,
      "object_position": null,
      "order": null,
      "overflow": null,
      "overflow_x": null,
      "overflow_y": null,
      "padding": null,
      "right": null,
      "top": null,
      "visibility": null,
      "width": null
     }
    },
    "bb17b9164b484dfd98e963a30b38da44": {
     "model_module": "@jupyter-widgets/controls",
     "model_module_version": "1.5.0",
     "model_name": "ProgressStyleModel",
     "state": {
      "_model_module": "@jupyter-widgets/controls",
      "_model_module_version": "1.5.0",
      "_model_name": "ProgressStyleModel",
      "_view_count": null,
      "_view_module": "@jupyter-widgets/base",
      "_view_module_version": "1.2.0",
      "_view_name": "StyleView",
      "bar_color": null,
      "description_width": ""
     }
    },
    "e7de6fc3ceeb4d7da9844d1c982f1681": {
     "model_module": "@jupyter-widgets/controls",
     "model_module_version": "1.5.0",
     "model_name": "HTMLModel",
     "state": {
      "_dom_classes": [],
      "_model_module": "@jupyter-widgets/controls",
      "_model_module_version": "1.5.0",
      "_model_name": "HTMLModel",
      "_view_count": null,
      "_view_module": "@jupyter-widgets/controls",
      "_view_module_version": "1.5.0",
      "_view_name": "HTMLView",
      "description": "",
      "description_tooltip": null,
      "layout": "IPY_MODEL_96bbe46b092d408f8c759721b9177d1f",
      "placeholder": "​",
      "style": "IPY_MODEL_4024a9e859c64e61a7b9eeed12ed4625",
      "value": " 100/100 [49:58&lt;00:00, 59.73s/it]"
     }
    },
    "ecfa3ad4a3ba48aab15b901df2c00661": {
     "model_module": "@jupyter-widgets/controls",
     "model_module_version": "1.5.0",
     "model_name": "HTMLModel",
     "state": {
      "_dom_classes": [],
      "_model_module": "@jupyter-widgets/controls",
      "_model_module_version": "1.5.0",
      "_model_name": "HTMLModel",
      "_view_count": null,
      "_view_module": "@jupyter-widgets/controls",
      "_view_module_version": "1.5.0",
      "_view_name": "HTMLView",
      "description": "",
      "description_tooltip": null,
      "layout": "IPY_MODEL_accd11cc66ed4356aa2e2077211a328a",
      "placeholder": "​",
      "style": "IPY_MODEL_8fedec19d56c44c39ccd75a3d50606eb",
      "value": "Best trial: 47. Best value: 0.998288: 100%"
     }
    },
    "f1c94c1d4e43453aaf90b41a15856b57": {
     "model_module": "@jupyter-widgets/base",
     "model_module_version": "1.2.0",
     "model_name": "LayoutModel",
     "state": {
      "_model_module": "@jupyter-widgets/base",
      "_model_module_version": "1.2.0",
      "_model_name": "LayoutModel",
      "_view_count": null,
      "_view_module": "@jupyter-widgets/base",
      "_view_module_version": "1.2.0",
      "_view_name": "LayoutView",
      "align_content": null,
      "align_items": null,
      "align_self": null,
      "border": null,
      "bottom": null,
      "display": null,
      "flex": null,
      "flex_flow": null,
      "grid_area": null,
      "grid_auto_columns": null,
      "grid_auto_flow": null,
      "grid_auto_rows": null,
      "grid_column": null,
      "grid_gap": null,
      "grid_row": null,
      "grid_template_areas": null,
      "grid_template_columns": null,
      "grid_template_rows": null,
      "height": null,
      "justify_content": null,
      "justify_items": null,
      "left": null,
      "margin": null,
      "max_height": null,
      "max_width": null,
      "min_height": null,
      "min_width": null,
      "object_fit": null,
      "object_position": null,
      "order": null,
      "overflow": null,
      "overflow_x": null,
      "overflow_y": null,
      "padding": null,
      "right": null,
      "top": null,
      "visibility": null,
      "width": null
     }
    }
   }
  }
 },
 "nbformat": 4,
 "nbformat_minor": 4
}
